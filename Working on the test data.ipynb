{
 "cells": [
  {
   "cell_type": "markdown",
   "id": "156c176d",
   "metadata": {},
   "source": [
    "# Note: \n",
    "The test set provided does not include the target variable which is 'clicked'. In this case, the results of the predictions using this set cannot be confirmed but still predicted with approximately 95% precision accuracy.\n",
    "The results obtained are a translations of the possible probabilities of the predictions, i.e, if the result is 1 means that the probability that the ad is clicked is equal or superior than 50% and, in the second case, if the result is 0 then the probability of a clicked ad is inferior than 50%.  \n",
    "    \n",
    "    "
   ]
  },
  {
   "cell_type": "code",
   "execution_count": 1,
   "id": "cb437b43",
   "metadata": {},
   "outputs": [],
   "source": [
    "import numpy as np\n",
    "import pandas as pd\n",
    "\n",
    "import os\n",
    "\n",
    "from sklearn.model_selection import train_test_split\n",
    "\n",
    "from sklearn import metrics\n",
    "\n",
    "\n",
    "%matplotlib inline"
   ]
  },
  {
   "cell_type": "code",
   "execution_count": 2,
   "id": "a0e4b771",
   "metadata": {},
   "outputs": [
    {
     "name": "stderr",
     "output_type": "stream",
     "text": [
      "C:\\Users\\xps\\anaconda3\\envs\\Need\\lib\\site-packages\\IPython\\core\\interactiveshell.py:3165: DtypeWarning: Columns (7) have mixed types.Specify dtype option on import or set low_memory=False.\n",
      "  has_raised = await self.run_ast_nodes(code_ast.body, cell_name,\n"
     ]
    }
   ],
   "source": [
    "# Read in the data.\n",
    "df_test = pd.read_csv('test.csv', sep= ',')"
   ]
  },
  {
   "cell_type": "markdown",
   "id": "d73d72d7",
   "metadata": {},
   "source": [
    "EDA"
   ]
  },
  {
   "cell_type": "code",
   "execution_count": 3,
   "id": "cb8ae375",
   "metadata": {
    "scrolled": true
   },
   "outputs": [
    {
     "data": {
      "text/html": [
       "<div>\n",
       "<style scoped>\n",
       "    .dataframe tbody tr th:only-of-type {\n",
       "        vertical-align: middle;\n",
       "    }\n",
       "\n",
       "    .dataframe tbody tr th {\n",
       "        vertical-align: top;\n",
       "    }\n",
       "\n",
       "    .dataframe thead th {\n",
       "        text-align: right;\n",
       "    }\n",
       "</style>\n",
       "<table border=\"1\" class=\"dataframe\">\n",
       "  <thead>\n",
       "    <tr style=\"text-align: right;\">\n",
       "      <th></th>\n",
       "      <th>timestamp</th>\n",
       "      <th>bidid</th>\n",
       "      <th>device_id</th>\n",
       "      <th>user_id</th>\n",
       "      <th>format</th>\n",
       "      <th>bidfloor</th>\n",
       "      <th>support_type</th>\n",
       "      <th>support_id</th>\n",
       "      <th>device_type</th>\n",
       "      <th>device_os</th>\n",
       "      <th>device_language</th>\n",
       "      <th>device_model</th>\n",
       "      <th>verticals_0</th>\n",
       "      <th>verticals_1</th>\n",
       "      <th>verticals_2</th>\n",
       "      <th>vertical_3</th>\n",
       "      <th>ad_id</th>\n",
       "      <th>bid_price</th>\n",
       "      <th>won_price</th>\n",
       "    </tr>\n",
       "  </thead>\n",
       "  <tbody>\n",
       "    <tr>\n",
       "      <th>0</th>\n",
       "      <td>1430264861</td>\n",
       "      <td>VUAbtwAKfUwKG+JOugBfTw==</td>\n",
       "      <td>20189672-3ca0-48f8-957f-b2400005fea2</td>\n",
       "      <td>CAESEO1swnwzbyP_ulp5I6dwI9w</td>\n",
       "      <td>320x480</td>\n",
       "      <td>1000000</td>\n",
       "      <td>app</td>\n",
       "      <td>606697013</td>\n",
       "      <td>1</td>\n",
       "      <td>ios</td>\n",
       "      <td>en_EN</td>\n",
       "      <td>iphone</td>\n",
       "      <td>675</td>\n",
       "      <td>1462</td>\n",
       "      <td>0</td>\n",
       "      <td>0</td>\n",
       "      <td>544501</td>\n",
       "      <td>220000000</td>\n",
       "      <td>184000000</td>\n",
       "    </tr>\n",
       "    <tr>\n",
       "      <th>1</th>\n",
       "      <td>1430264862</td>\n",
       "      <td>VUAbuAANjzkKwo3v1AB++g==</td>\n",
       "      <td>8f46fac0-8893-4547-8ec7-028b4812057a</td>\n",
       "      <td>CAESEMgZsfgjSKT7GvZNAtFJaAs</td>\n",
       "      <td>320x480</td>\n",
       "      <td>1000000</td>\n",
       "      <td>app</td>\n",
       "      <td>905455244</td>\n",
       "      <td>1</td>\n",
       "      <td>ios</td>\n",
       "      <td>fr_FR</td>\n",
       "      <td>iphone</td>\n",
       "      <td>926</td>\n",
       "      <td>1462</td>\n",
       "      <td>1536</td>\n",
       "      <td>1071</td>\n",
       "      <td>544477</td>\n",
       "      <td>220000000</td>\n",
       "      <td>198000000</td>\n",
       "    </tr>\n",
       "    <tr>\n",
       "      <th>2</th>\n",
       "      <td>1430264862</td>\n",
       "      <td>VUAbuQAA39MKwuUk0wBMBQ==</td>\n",
       "      <td>692cb285-3ed0-4294-afda-fefb7a877238</td>\n",
       "      <td>CAESECYlSHMNcbKaLUtv2aXuBYw</td>\n",
       "      <td>320x480</td>\n",
       "      <td>197000000</td>\n",
       "      <td>app</td>\n",
       "      <td>623367437</td>\n",
       "      <td>1</td>\n",
       "      <td>ios</td>\n",
       "      <td>fr_FR</td>\n",
       "      <td>iphone</td>\n",
       "      <td>1494</td>\n",
       "      <td>1462</td>\n",
       "      <td>105</td>\n",
       "      <td>937</td>\n",
       "      <td>544501</td>\n",
       "      <td>220000000</td>\n",
       "      <td>197000000</td>\n",
       "    </tr>\n",
       "    <tr>\n",
       "      <th>3</th>\n",
       "      <td>1430264862</td>\n",
       "      <td>VUAbuQAB6HoKG+HGlQAW1w==</td>\n",
       "      <td>81f53cbd-0a22-4b94-87fb-8f3f4ef8148f</td>\n",
       "      <td>CAESEIM8HpwwPdYg_1FhZwa9sHo</td>\n",
       "      <td>320x480</td>\n",
       "      <td>198000000</td>\n",
       "      <td>app</td>\n",
       "      <td>911152486</td>\n",
       "      <td>1</td>\n",
       "      <td>ios</td>\n",
       "      <td>fr_FR</td>\n",
       "      <td>iphone</td>\n",
       "      <td>937</td>\n",
       "      <td>926</td>\n",
       "      <td>1462</td>\n",
       "      <td>1536</td>\n",
       "      <td>544501</td>\n",
       "      <td>220000000</td>\n",
       "      <td>208000000</td>\n",
       "    </tr>\n",
       "    <tr>\n",
       "      <th>4</th>\n",
       "      <td>1430264862</td>\n",
       "      <td>VUAbuQAJO6cKGxPLvQB1Sw==</td>\n",
       "      <td>cab4ae17-6b48-483e-ba68-ad49c8d944a0</td>\n",
       "      <td>CAESEK2HiR6F1ncLdKqp_F6vOF8</td>\n",
       "      <td>320x480</td>\n",
       "      <td>1000000</td>\n",
       "      <td>app</td>\n",
       "      <td>506916707</td>\n",
       "      <td>1</td>\n",
       "      <td>ios</td>\n",
       "      <td>en_EN</td>\n",
       "      <td>iphone</td>\n",
       "      <td>386</td>\n",
       "      <td>384</td>\n",
       "      <td>13</td>\n",
       "      <td>1379</td>\n",
       "      <td>544501</td>\n",
       "      <td>220000000</td>\n",
       "      <td>107000000</td>\n",
       "    </tr>\n",
       "    <tr>\n",
       "      <th>...</th>\n",
       "      <td>...</td>\n",
       "      <td>...</td>\n",
       "      <td>...</td>\n",
       "      <td>...</td>\n",
       "      <td>...</td>\n",
       "      <td>...</td>\n",
       "      <td>...</td>\n",
       "      <td>...</td>\n",
       "      <td>...</td>\n",
       "      <td>...</td>\n",
       "      <td>...</td>\n",
       "      <td>...</td>\n",
       "      <td>...</td>\n",
       "      <td>...</td>\n",
       "      <td>...</td>\n",
       "      <td>...</td>\n",
       "      <td>...</td>\n",
       "      <td>...</td>\n",
       "      <td>...</td>\n",
       "    </tr>\n",
       "    <tr>\n",
       "      <th>508153</th>\n",
       "      <td>1430412589</td>\n",
       "      <td>VUJcxgAOcawKG+KQPQAQWA==</td>\n",
       "      <td>fd39d6de-dd1a-4ceb-a66c-c65f7c33586d</td>\n",
       "      <td>CAESEDa6sg5UTPEJwHLWU0wS2Zs</td>\n",
       "      <td>320x480</td>\n",
       "      <td>1000000</td>\n",
       "      <td>app</td>\n",
       "      <td>536931657.0</td>\n",
       "      <td>1</td>\n",
       "      <td>ios</td>\n",
       "      <td>fr_FR</td>\n",
       "      <td>iphone</td>\n",
       "      <td>39</td>\n",
       "      <td>1462</td>\n",
       "      <td>1071</td>\n",
       "      <td>8</td>\n",
       "      <td>544501</td>\n",
       "      <td>200000000</td>\n",
       "      <td>99000000</td>\n",
       "    </tr>\n",
       "    <tr>\n",
       "      <th>508154</th>\n",
       "      <td>1430412589</td>\n",
       "      <td>VUJcxwAAEmkKG4/BhAA7Xg==</td>\n",
       "      <td>36e3110e-814a-46ac-8895-83012a2b14c9</td>\n",
       "      <td>CAESEP1c-lretBLLZbJYCUW74sU</td>\n",
       "      <td>320x480</td>\n",
       "      <td>1000000</td>\n",
       "      <td>app</td>\n",
       "      <td>421576027.0</td>\n",
       "      <td>1</td>\n",
       "      <td>ios</td>\n",
       "      <td>fr_FR</td>\n",
       "      <td>iphone</td>\n",
       "      <td>926</td>\n",
       "      <td>1462</td>\n",
       "      <td>0</td>\n",
       "      <td>0</td>\n",
       "      <td>544501</td>\n",
       "      <td>200000000</td>\n",
       "      <td>184000000</td>\n",
       "    </tr>\n",
       "    <tr>\n",
       "      <th>508155</th>\n",
       "      <td>1430412589</td>\n",
       "      <td>VUJcxwAAYWQK24QjGwAhRQ==</td>\n",
       "      <td>9535148b-fdc2-4457-8421-b76bd370b785</td>\n",
       "      <td>CAESELPmjVEZqLnKLU99IEvRj-k</td>\n",
       "      <td>320x480</td>\n",
       "      <td>185000000</td>\n",
       "      <td>app</td>\n",
       "      <td>911793120.0</td>\n",
       "      <td>1</td>\n",
       "      <td>ios</td>\n",
       "      <td>fr_FR</td>\n",
       "      <td>iphone</td>\n",
       "      <td>937</td>\n",
       "      <td>1462</td>\n",
       "      <td>1536</td>\n",
       "      <td>1461</td>\n",
       "      <td>544501</td>\n",
       "      <td>380000000</td>\n",
       "      <td>185000000</td>\n",
       "    </tr>\n",
       "    <tr>\n",
       "      <th>508156</th>\n",
       "      <td>1430412589</td>\n",
       "      <td>VUJcxwABiGMKwmLz0gBrAA==</td>\n",
       "      <td>39bcabde-b58d-42e3-a667-ada6cb401592</td>\n",
       "      <td>CAESEBdDyltFBAn9ZVJDRduE87k</td>\n",
       "      <td>320x480</td>\n",
       "      <td>1000000</td>\n",
       "      <td>app</td>\n",
       "      <td>893530727.0</td>\n",
       "      <td>1</td>\n",
       "      <td>ios</td>\n",
       "      <td>fr_FR</td>\n",
       "      <td>iphone</td>\n",
       "      <td>220</td>\n",
       "      <td>1462</td>\n",
       "      <td>35</td>\n",
       "      <td>78</td>\n",
       "      <td>544501</td>\n",
       "      <td>200000000</td>\n",
       "      <td>97000000</td>\n",
       "    </tr>\n",
       "    <tr>\n",
       "      <th>508157</th>\n",
       "      <td>1430412589</td>\n",
       "      <td>VUJcxwABf5MKG+PWRABp2g==</td>\n",
       "      <td>eaf378c1-a23e-46ce-a091-925aa7f8e284</td>\n",
       "      <td>CAESELksfMhdW8yU2-B2dzb8PIY</td>\n",
       "      <td>320x480</td>\n",
       "      <td>185000000</td>\n",
       "      <td>app</td>\n",
       "      <td>911793120.0</td>\n",
       "      <td>1</td>\n",
       "      <td>ios</td>\n",
       "      <td>fr_FR</td>\n",
       "      <td>iphone</td>\n",
       "      <td>937</td>\n",
       "      <td>1462</td>\n",
       "      <td>1536</td>\n",
       "      <td>1461</td>\n",
       "      <td>544501</td>\n",
       "      <td>380000000</td>\n",
       "      <td>230000000</td>\n",
       "    </tr>\n",
       "  </tbody>\n",
       "</table>\n",
       "<p>508158 rows × 19 columns</p>\n",
       "</div>"
      ],
      "text/plain": [
       "         timestamp                     bidid  \\\n",
       "0       1430264861  VUAbtwAKfUwKG+JOugBfTw==   \n",
       "1       1430264862  VUAbuAANjzkKwo3v1AB++g==   \n",
       "2       1430264862  VUAbuQAA39MKwuUk0wBMBQ==   \n",
       "3       1430264862  VUAbuQAB6HoKG+HGlQAW1w==   \n",
       "4       1430264862  VUAbuQAJO6cKGxPLvQB1Sw==   \n",
       "...            ...                       ...   \n",
       "508153  1430412589  VUJcxgAOcawKG+KQPQAQWA==   \n",
       "508154  1430412589  VUJcxwAAEmkKG4/BhAA7Xg==   \n",
       "508155  1430412589  VUJcxwAAYWQK24QjGwAhRQ==   \n",
       "508156  1430412589  VUJcxwABiGMKwmLz0gBrAA==   \n",
       "508157  1430412589  VUJcxwABf5MKG+PWRABp2g==   \n",
       "\n",
       "                                   device_id                      user_id  \\\n",
       "0       20189672-3ca0-48f8-957f-b2400005fea2  CAESEO1swnwzbyP_ulp5I6dwI9w   \n",
       "1       8f46fac0-8893-4547-8ec7-028b4812057a  CAESEMgZsfgjSKT7GvZNAtFJaAs   \n",
       "2       692cb285-3ed0-4294-afda-fefb7a877238  CAESECYlSHMNcbKaLUtv2aXuBYw   \n",
       "3       81f53cbd-0a22-4b94-87fb-8f3f4ef8148f  CAESEIM8HpwwPdYg_1FhZwa9sHo   \n",
       "4       cab4ae17-6b48-483e-ba68-ad49c8d944a0  CAESEK2HiR6F1ncLdKqp_F6vOF8   \n",
       "...                                      ...                          ...   \n",
       "508153  fd39d6de-dd1a-4ceb-a66c-c65f7c33586d  CAESEDa6sg5UTPEJwHLWU0wS2Zs   \n",
       "508154  36e3110e-814a-46ac-8895-83012a2b14c9  CAESEP1c-lretBLLZbJYCUW74sU   \n",
       "508155  9535148b-fdc2-4457-8421-b76bd370b785  CAESELPmjVEZqLnKLU99IEvRj-k   \n",
       "508156  39bcabde-b58d-42e3-a667-ada6cb401592  CAESEBdDyltFBAn9ZVJDRduE87k   \n",
       "508157  eaf378c1-a23e-46ce-a091-925aa7f8e284  CAESELksfMhdW8yU2-B2dzb8PIY   \n",
       "\n",
       "         format   bidfloor support_type   support_id  device_type device_os  \\\n",
       "0       320x480    1000000          app    606697013            1       ios   \n",
       "1       320x480    1000000          app    905455244            1       ios   \n",
       "2       320x480  197000000          app    623367437            1       ios   \n",
       "3       320x480  198000000          app    911152486            1       ios   \n",
       "4       320x480    1000000          app    506916707            1       ios   \n",
       "...         ...        ...          ...          ...          ...       ...   \n",
       "508153  320x480    1000000          app  536931657.0            1       ios   \n",
       "508154  320x480    1000000          app  421576027.0            1       ios   \n",
       "508155  320x480  185000000          app  911793120.0            1       ios   \n",
       "508156  320x480    1000000          app  893530727.0            1       ios   \n",
       "508157  320x480  185000000          app  911793120.0            1       ios   \n",
       "\n",
       "       device_language device_model  verticals_0  verticals_1  verticals_2  \\\n",
       "0                en_EN       iphone          675         1462            0   \n",
       "1                fr_FR       iphone          926         1462         1536   \n",
       "2                fr_FR       iphone         1494         1462          105   \n",
       "3                fr_FR       iphone          937          926         1462   \n",
       "4                en_EN       iphone          386          384           13   \n",
       "...                ...          ...          ...          ...          ...   \n",
       "508153           fr_FR       iphone           39         1462         1071   \n",
       "508154           fr_FR       iphone          926         1462            0   \n",
       "508155           fr_FR       iphone          937         1462         1536   \n",
       "508156           fr_FR       iphone          220         1462           35   \n",
       "508157           fr_FR       iphone          937         1462         1536   \n",
       "\n",
       "        vertical_3   ad_id  bid_price  won_price  \n",
       "0                0  544501  220000000  184000000  \n",
       "1             1071  544477  220000000  198000000  \n",
       "2              937  544501  220000000  197000000  \n",
       "3             1536  544501  220000000  208000000  \n",
       "4             1379  544501  220000000  107000000  \n",
       "...            ...     ...        ...        ...  \n",
       "508153           8  544501  200000000   99000000  \n",
       "508154           0  544501  200000000  184000000  \n",
       "508155        1461  544501  380000000  185000000  \n",
       "508156          78  544501  200000000   97000000  \n",
       "508157        1461  544501  380000000  230000000  \n",
       "\n",
       "[508158 rows x 19 columns]"
      ]
     },
     "execution_count": 3,
     "metadata": {},
     "output_type": "execute_result"
    }
   ],
   "source": [
    "df_test"
   ]
  },
  {
   "cell_type": "code",
   "execution_count": 4,
   "id": "c0169feb",
   "metadata": {},
   "outputs": [
    {
     "data": {
      "text/plain": [
       "Index(['timestamp', 'bidid', 'device_id', 'user_id', 'format', 'bidfloor',\n",
       "       'support_type', 'support_id', 'device_type', 'device_os',\n",
       "       'device_language', 'device_model', 'verticals_0', 'verticals_1',\n",
       "       'verticals_2', 'vertical_3', 'ad_id', 'bid_price', 'won_price'],\n",
       "      dtype='object')"
      ]
     },
     "execution_count": 4,
     "metadata": {},
     "output_type": "execute_result"
    }
   ],
   "source": [
    "df_test.columns"
   ]
  },
  {
   "cell_type": "code",
   "execution_count": 5,
   "id": "e1ca729b",
   "metadata": {},
   "outputs": [
    {
     "name": "stdout",
     "output_type": "stream",
     "text": [
      "<class 'pandas.core.frame.DataFrame'>\n",
      "RangeIndex: 508158 entries, 0 to 508157\n",
      "Data columns (total 19 columns):\n",
      " #   Column           Non-Null Count   Dtype \n",
      "---  ------           --------------   ----- \n",
      " 0   timestamp        508158 non-null  int64 \n",
      " 1   bidid            508158 non-null  object\n",
      " 2   device_id        508158 non-null  object\n",
      " 3   user_id          508158 non-null  object\n",
      " 4   format           508158 non-null  object\n",
      " 5   bidfloor         508158 non-null  int64 \n",
      " 6   support_type     508158 non-null  object\n",
      " 7   support_id       508158 non-null  object\n",
      " 8   device_type      508158 non-null  int64 \n",
      " 9   device_os        508158 non-null  object\n",
      " 10  device_language  508158 non-null  object\n",
      " 11  device_model     508158 non-null  object\n",
      " 12  verticals_0      508158 non-null  int64 \n",
      " 13  verticals_1      508158 non-null  int64 \n",
      " 14  verticals_2      508158 non-null  int64 \n",
      " 15  vertical_3       508158 non-null  int64 \n",
      " 16  ad_id            508158 non-null  int64 \n",
      " 17  bid_price        508158 non-null  int64 \n",
      " 18  won_price        508158 non-null  int64 \n",
      "dtypes: int64(10), object(9)\n",
      "memory usage: 73.7+ MB\n"
     ]
    }
   ],
   "source": [
    "df_test.info()"
   ]
  },
  {
   "cell_type": "code",
   "execution_count": 6,
   "id": "2b04f5c8",
   "metadata": {},
   "outputs": [
    {
     "data": {
      "text/plain": [
       "Index([], dtype='object')"
      ]
     },
     "execution_count": 6,
     "metadata": {},
     "output_type": "execute_result"
    }
   ],
   "source": [
    "#check columns with nan values\n",
    "df_test.columns[df_test.isna().any()]"
   ]
  },
  {
   "cell_type": "code",
   "execution_count": 7,
   "id": "b06b9d5f",
   "metadata": {},
   "outputs": [
    {
     "data": {
      "text/plain": [
       "timestamp          0\n",
       "bidid              0\n",
       "device_id          0\n",
       "user_id            0\n",
       "format             0\n",
       "bidfloor           0\n",
       "support_type       0\n",
       "support_id         0\n",
       "device_type        0\n",
       "device_os          0\n",
       "device_language    0\n",
       "device_model       0\n",
       "verticals_0        0\n",
       "verticals_1        0\n",
       "verticals_2        0\n",
       "vertical_3         0\n",
       "ad_id              0\n",
       "bid_price          0\n",
       "won_price          0\n",
       "dtype: int64"
      ]
     },
     "execution_count": 7,
     "metadata": {},
     "output_type": "execute_result"
    }
   ],
   "source": [
    "df_test.isnull().sum()"
   ]
  },
  {
   "cell_type": "code",
   "execution_count": 8,
   "id": "ecd99c17",
   "metadata": {},
   "outputs": [
    {
     "data": {
      "text/html": [
       "<div>\n",
       "<style scoped>\n",
       "    .dataframe tbody tr th:only-of-type {\n",
       "        vertical-align: middle;\n",
       "    }\n",
       "\n",
       "    .dataframe tbody tr th {\n",
       "        vertical-align: top;\n",
       "    }\n",
       "\n",
       "    .dataframe thead th {\n",
       "        text-align: right;\n",
       "    }\n",
       "</style>\n",
       "<table border=\"1\" class=\"dataframe\">\n",
       "  <thead>\n",
       "    <tr style=\"text-align: right;\">\n",
       "      <th></th>\n",
       "      <th>timestamp</th>\n",
       "      <th>bidfloor</th>\n",
       "      <th>device_type</th>\n",
       "      <th>verticals_0</th>\n",
       "      <th>verticals_1</th>\n",
       "      <th>verticals_2</th>\n",
       "      <th>vertical_3</th>\n",
       "      <th>ad_id</th>\n",
       "      <th>bid_price</th>\n",
       "      <th>won_price</th>\n",
       "    </tr>\n",
       "  </thead>\n",
       "  <tbody>\n",
       "    <tr>\n",
       "      <th>count</th>\n",
       "      <td>5.081580e+05</td>\n",
       "      <td>5.081580e+05</td>\n",
       "      <td>508158.0</td>\n",
       "      <td>508158.000000</td>\n",
       "      <td>508158.000000</td>\n",
       "      <td>508158.000000</td>\n",
       "      <td>508158.000000</td>\n",
       "      <td>508158.000000</td>\n",
       "      <td>5.081580e+05</td>\n",
       "      <td>5.081580e+05</td>\n",
       "    </tr>\n",
       "    <tr>\n",
       "      <th>mean</th>\n",
       "      <td>1.430358e+09</td>\n",
       "      <td>9.823643e+07</td>\n",
       "      <td>1.0</td>\n",
       "      <td>744.735169</td>\n",
       "      <td>1060.074205</td>\n",
       "      <td>814.250910</td>\n",
       "      <td>702.113612</td>\n",
       "      <td>544493.477052</td>\n",
       "      <td>2.410010e+08</td>\n",
       "      <td>1.783978e+08</td>\n",
       "    </tr>\n",
       "    <tr>\n",
       "      <th>std</th>\n",
       "      <td>4.597176e+04</td>\n",
       "      <td>8.478177e+07</td>\n",
       "      <td>0.0</td>\n",
       "      <td>643.726555</td>\n",
       "      <td>575.610727</td>\n",
       "      <td>649.215254</td>\n",
       "      <td>643.740032</td>\n",
       "      <td>8.400720</td>\n",
       "      <td>6.563184e+07</td>\n",
       "      <td>5.201003e+07</td>\n",
       "    </tr>\n",
       "    <tr>\n",
       "      <th>min</th>\n",
       "      <td>1.430265e+09</td>\n",
       "      <td>1.000000e+06</td>\n",
       "      <td>1.0</td>\n",
       "      <td>0.000000</td>\n",
       "      <td>0.000000</td>\n",
       "      <td>0.000000</td>\n",
       "      <td>0.000000</td>\n",
       "      <td>544474.000000</td>\n",
       "      <td>1.000000e+08</td>\n",
       "      <td>-1.000000e+05</td>\n",
       "    </tr>\n",
       "    <tr>\n",
       "      <th>25%</th>\n",
       "      <td>1.430314e+09</td>\n",
       "      <td>1.000000e+06</td>\n",
       "      <td>1.0</td>\n",
       "      <td>220.000000</td>\n",
       "      <td>901.000000</td>\n",
       "      <td>105.000000</td>\n",
       "      <td>0.000000</td>\n",
       "      <td>544489.000000</td>\n",
       "      <td>2.000000e+08</td>\n",
       "      <td>1.720000e+08</td>\n",
       "    </tr>\n",
       "    <tr>\n",
       "      <th>50%</th>\n",
       "      <td>1.430384e+09</td>\n",
       "      <td>1.280000e+08</td>\n",
       "      <td>1.0</td>\n",
       "      <td>926.000000</td>\n",
       "      <td>1462.000000</td>\n",
       "      <td>1071.000000</td>\n",
       "      <td>937.000000</td>\n",
       "      <td>544501.000000</td>\n",
       "      <td>2.200000e+08</td>\n",
       "      <td>1.850000e+08</td>\n",
       "    </tr>\n",
       "    <tr>\n",
       "      <th>75%</th>\n",
       "      <td>1.430395e+09</td>\n",
       "      <td>1.880000e+08</td>\n",
       "      <td>1.0</td>\n",
       "      <td>937.000000</td>\n",
       "      <td>1462.000000</td>\n",
       "      <td>1462.000000</td>\n",
       "      <td>1461.000000</td>\n",
       "      <td>544501.000000</td>\n",
       "      <td>2.200000e+08</td>\n",
       "      <td>1.970000e+08</td>\n",
       "    </tr>\n",
       "    <tr>\n",
       "      <th>max</th>\n",
       "      <td>1.430413e+09</td>\n",
       "      <td>2.760000e+08</td>\n",
       "      <td>1.0</td>\n",
       "      <td>5693.000000</td>\n",
       "      <td>5200.000000</td>\n",
       "      <td>5527.000000</td>\n",
       "      <td>1611.000000</td>\n",
       "      <td>544501.000000</td>\n",
       "      <td>3.800000e+08</td>\n",
       "      <td>3.800000e+08</td>\n",
       "    </tr>\n",
       "  </tbody>\n",
       "</table>\n",
       "</div>"
      ],
      "text/plain": [
       "          timestamp      bidfloor  device_type    verticals_0    verticals_1  \\\n",
       "count  5.081580e+05  5.081580e+05     508158.0  508158.000000  508158.000000   \n",
       "mean   1.430358e+09  9.823643e+07          1.0     744.735169    1060.074205   \n",
       "std    4.597176e+04  8.478177e+07          0.0     643.726555     575.610727   \n",
       "min    1.430265e+09  1.000000e+06          1.0       0.000000       0.000000   \n",
       "25%    1.430314e+09  1.000000e+06          1.0     220.000000     901.000000   \n",
       "50%    1.430384e+09  1.280000e+08          1.0     926.000000    1462.000000   \n",
       "75%    1.430395e+09  1.880000e+08          1.0     937.000000    1462.000000   \n",
       "max    1.430413e+09  2.760000e+08          1.0    5693.000000    5200.000000   \n",
       "\n",
       "         verticals_2     vertical_3          ad_id     bid_price     won_price  \n",
       "count  508158.000000  508158.000000  508158.000000  5.081580e+05  5.081580e+05  \n",
       "mean      814.250910     702.113612  544493.477052  2.410010e+08  1.783978e+08  \n",
       "std       649.215254     643.740032       8.400720  6.563184e+07  5.201003e+07  \n",
       "min         0.000000       0.000000  544474.000000  1.000000e+08 -1.000000e+05  \n",
       "25%       105.000000       0.000000  544489.000000  2.000000e+08  1.720000e+08  \n",
       "50%      1071.000000     937.000000  544501.000000  2.200000e+08  1.850000e+08  \n",
       "75%      1462.000000    1461.000000  544501.000000  2.200000e+08  1.970000e+08  \n",
       "max      5527.000000    1611.000000  544501.000000  3.800000e+08  3.800000e+08  "
      ]
     },
     "execution_count": 8,
     "metadata": {},
     "output_type": "execute_result"
    }
   ],
   "source": [
    "df_test.describe()"
   ]
  },
  {
   "cell_type": "code",
   "execution_count": 9,
   "id": "a45ba8cd",
   "metadata": {},
   "outputs": [
    {
     "data": {
      "text/plain": [
       "array(['app', 'website'], dtype=object)"
      ]
     },
     "execution_count": 9,
     "metadata": {},
     "output_type": "execute_result"
    }
   ],
   "source": [
    "df_test.support_type.unique()"
   ]
  },
  {
   "cell_type": "code",
   "execution_count": 10,
   "id": "83c4b008",
   "metadata": {},
   "outputs": [],
   "source": [
    "df_test['support_type']= df_test['support_type'].replace([\"app\", \"website\"],[0,1] )"
   ]
  },
  {
   "cell_type": "code",
   "execution_count": 11,
   "id": "b6bf9270",
   "metadata": {},
   "outputs": [
    {
     "data": {
      "text/plain": [
       "array(['ios'], dtype=object)"
      ]
     },
     "execution_count": 11,
     "metadata": {},
     "output_type": "execute_result"
    }
   ],
   "source": [
    "df_test.device_os.unique() #device os is always ios so no need to keep it!"
   ]
  },
  {
   "cell_type": "code",
   "execution_count": 12,
   "id": "b06b84fa",
   "metadata": {},
   "outputs": [],
   "source": [
    "df_test.drop(\"device_os\",axis=1, inplace= True)"
   ]
  },
  {
   "cell_type": "code",
   "execution_count": 13,
   "id": "da00c0ef",
   "metadata": {},
   "outputs": [
    {
     "data": {
      "text/plain": [
       "array([1], dtype=int64)"
      ]
     },
     "execution_count": 13,
     "metadata": {},
     "output_type": "execute_result"
    }
   ],
   "source": [
    "df_test.device_type.unique() #device type is always 1 so all the study is based on one type device!"
   ]
  },
  {
   "cell_type": "code",
   "execution_count": 14,
   "id": "91d8afdd",
   "metadata": {},
   "outputs": [],
   "source": [
    "df_test.drop(\"device_type\",axis=1, inplace= True) "
   ]
  },
  {
   "cell_type": "code",
   "execution_count": 15,
   "id": "1541ac29",
   "metadata": {},
   "outputs": [
    {
     "data": {
      "text/plain": [
       "array(['en_EN', 'fr_FR', 'ko_KO', 'ru_RU', 'tr_TR', 'ja_JA', 'th_TH',\n",
       "       'zh_CN', 'ro_RO', 'pt_PT', 'es_ES', 'pl_PL', 'it_IT', 'de_DE',\n",
       "       'ar_AR', 'nl_NL', 'km_KM', 'zh_TW', 'hr_HR', 'el_EL', 'sv_SV',\n",
       "       'da_DA', 'iw_IW', 'hu_HU', 'vi_VI', 'ta_TA', 'no_NO', 'fa_FA',\n",
       "       'co_CO', 'ca_CA', 'ln_LN', 'eu_EU', 'uk_UK', 'cs_CS', 'bn_BN',\n",
       "       'fi_FI', 'pa_PA', 'sq_SQ', 'ht_HT', 'sk_SK', 'gu_GU', 'hy_HY',\n",
       "       'bg_BG', 'kn_KN', 'yi_YI', 'la_LA', 'sh_SH', 'lo_LO', 'mg_MG',\n",
       "       'ka_KA', 'br_BR', 'mn_MN', 'bs_BS'], dtype=object)"
      ]
     },
     "execution_count": 15,
     "metadata": {},
     "output_type": "execute_result"
    }
   ],
   "source": [
    "df_test.device_language.unique()"
   ]
  },
  {
   "cell_type": "code",
   "execution_count": 16,
   "id": "2b3810ec",
   "metadata": {},
   "outputs": [],
   "source": [
    "df_test['device_language']= df_test['device_language'].replace(['en_EN', 'fr_FR', 'ko_KO', 'ru_RU', 'tr_TR', 'ja_JA', 'th_TH',\n",
    "       'zh_CN', 'ro_RO', 'pt_PT', 'es_ES', 'pl_PL', 'it_IT', 'de_DE',\n",
    "       'ar_AR', 'nl_NL', 'km_KM', 'zh_TW', 'hr_HR', 'el_EL', 'sv_SV',\n",
    "       'da_DA', 'iw_IW', 'hu_HU', 'vi_VI', 'ta_TA', 'no_NO', 'fa_FA',\n",
    "       'co_CO', 'ca_CA', 'ln_LN', 'eu_EU', 'uk_UK', 'cs_CS', 'bn_BN',\n",
    "       'fi_FI', 'pa_PA', 'sq_SQ', 'ht_HT', 'sk_SK', 'gu_GU', 'hy_HY',\n",
    "       'bg_BG', 'kn_KN', 'yi_YI', 'la_LA', 'sh_SH', 'lo_LO', 'mg_MG',\n",
    "       'ka_KA', 'br_BR', 'mn_MN', 'bs_BS'],[0,1,2,3,4,5,6,7,8,9,10,11,12,13,14,15,16,17,18,19,20,21,22,23,24,25,26,27,28,29,30,31,32,33,34,35,36,37,38,39,40,41,42,43,44,45,46,47,48,49,50,51,52] )"
   ]
  },
  {
   "cell_type": "code",
   "execution_count": 17,
   "id": "77fbafc4",
   "metadata": {},
   "outputs": [
    {
     "data": {
      "text/plain": [
       "array(['iphone', 'ipod'], dtype=object)"
      ]
     },
     "execution_count": 17,
     "metadata": {},
     "output_type": "execute_result"
    }
   ],
   "source": [
    "df_test.device_model.unique()"
   ]
  },
  {
   "cell_type": "code",
   "execution_count": 18,
   "id": "f20c3182",
   "metadata": {},
   "outputs": [],
   "source": [
    "df_test['device_model']= df_test['device_model'].replace([\"iphone\", \"ipod\"],[0,1] )"
   ]
  },
  {
   "cell_type": "code",
   "execution_count": 19,
   "id": "ad607d4a",
   "metadata": {},
   "outputs": [
    {
     "data": {
      "text/plain": [
       "array([544501, 544477, 544489, 544474], dtype=int64)"
      ]
     },
     "execution_count": 19,
     "metadata": {},
     "output_type": "execute_result"
    }
   ],
   "source": [
    "df_test.ad_id.unique()"
   ]
  },
  {
   "cell_type": "code",
   "execution_count": 20,
   "id": "2f48af02",
   "metadata": {},
   "outputs": [],
   "source": [
    "df_test['ad_id']= df_test['ad_id'].replace([544501, 544477, 544489, 544474],[0,1,2,3] )"
   ]
  },
  {
   "cell_type": "code",
   "execution_count": 21,
   "id": "9081feae",
   "metadata": {},
   "outputs": [
    {
     "data": {
      "text/plain": [
       "array([220000000, 300000000, 380000000, 200000000, 100000000], dtype=int64)"
      ]
     },
     "execution_count": 21,
     "metadata": {},
     "output_type": "execute_result"
    }
   ],
   "source": [
    "df_test.bid_price.unique()"
   ]
  },
  {
   "cell_type": "code",
   "execution_count": 22,
   "id": "6c61ec33",
   "metadata": {},
   "outputs": [],
   "source": [
    "df_test['bid_price']= df_test['bid_price'].replace([220000000, 300000000, 380000000, 200000000, 100000000],[2,3,4,1,0] )"
   ]
  },
  {
   "cell_type": "code",
   "execution_count": 23,
   "id": "f834bab3",
   "metadata": {},
   "outputs": [
    {
     "data": {
      "text/plain": [
       "508158"
      ]
     },
     "execution_count": 23,
     "metadata": {},
     "output_type": "execute_result"
    }
   ],
   "source": [
    "len(df_test.bidid.unique()) #bidid to remove because it is independent"
   ]
  },
  {
   "cell_type": "code",
   "execution_count": 25,
   "id": "4913458e",
   "metadata": {},
   "outputs": [
    {
     "data": {
      "text/plain": [
       "109957"
      ]
     },
     "execution_count": 25,
     "metadata": {},
     "output_type": "execute_result"
    }
   ],
   "source": [
    "len(df_test.timestamp.unique()) #we need it"
   ]
  },
  {
   "cell_type": "code",
   "execution_count": 26,
   "id": "0d236ece",
   "metadata": {},
   "outputs": [
    {
     "data": {
      "text/plain": [
       "380"
      ]
     },
     "execution_count": 26,
     "metadata": {},
     "output_type": "execute_result"
    }
   ],
   "source": [
    "len(df_test.won_price.unique()) #we need it"
   ]
  },
  {
   "cell_type": "code",
   "execution_count": 27,
   "id": "f316af23",
   "metadata": {},
   "outputs": [
    {
     "data": {
      "text/plain": [
       "294"
      ]
     },
     "execution_count": 27,
     "metadata": {},
     "output_type": "execute_result"
    }
   ],
   "source": [
    "len(df_test.verticals_0.unique())"
   ]
  },
  {
   "cell_type": "code",
   "execution_count": 28,
   "id": "8f1164c8",
   "metadata": {},
   "outputs": [
    {
     "data": {
      "text/plain": [
       "214824"
      ]
     },
     "execution_count": 28,
     "metadata": {},
     "output_type": "execute_result"
    }
   ],
   "source": [
    "len(df_test.user_id.unique())"
   ]
  },
  {
   "cell_type": "code",
   "execution_count": 29,
   "id": "4a9e6e59",
   "metadata": {},
   "outputs": [],
   "source": [
    "#same 'format' over the whole dataset, no need in the training process"
   ]
  },
  {
   "cell_type": "code",
   "execution_count": 30,
   "id": "015cd3ef",
   "metadata": {},
   "outputs": [],
   "source": [
    "df_test.drop(\"bidid\",axis=1, inplace= True)\n",
    "df_test.drop(\"format\",axis=1, inplace= True)\n",
    "df_test.drop(\"user_id\",axis=1, inplace= True)\n",
    "df_test.drop(\"device_id\",axis=1, inplace= True)"
   ]
  },
  {
   "cell_type": "code",
   "execution_count": null,
   "id": "8fb1a605",
   "metadata": {},
   "outputs": [],
   "source": [
    "#check for None values\n",
    "#for c in df_test.columns:\n",
    "#    k=0\n",
    "#    for i in range (0,len(x['timestamp'])):\n",
    "#        if df_test[c][i] == 'None': k+=1 \n",
    "#    print(c,':',k)\n",
    "        "
   ]
  },
  {
   "cell_type": "code",
   "execution_count": 31,
   "id": "b9739cef",
   "metadata": {},
   "outputs": [
    {
     "data": {
      "text/plain": [
       "4055"
      ]
     },
     "execution_count": 31,
     "metadata": {},
     "output_type": "execute_result"
    }
   ],
   "source": [
    "len(df_test.support_id.unique())"
   ]
  },
  {
   "cell_type": "code",
   "execution_count": 32,
   "id": "af0c6a8e",
   "metadata": {},
   "outputs": [
    {
     "data": {
      "text/plain": [
       "484115113.0    42997\n",
       "905852173.0    33495\n",
       "911793120.0    33125\n",
       "623367437      25749\n",
       "951364656.0    22741\n",
       "               ...  \n",
       "867991872.0        1\n",
       "833585422.0        1\n",
       "766504466          1\n",
       "640450806.0        1\n",
       "513273934          1\n",
       "Name: support_id, Length: 4055, dtype: int64"
      ]
     },
     "execution_count": 32,
     "metadata": {},
     "output_type": "execute_result"
    }
   ],
   "source": [
    "df_test['support_id'].value_counts() #the most frequent support_id is 623367437"
   ]
  },
  {
   "cell_type": "code",
   "execution_count": 33,
   "id": "c15e0e7b",
   "metadata": {},
   "outputs": [
    {
     "name": "stderr",
     "output_type": "stream",
     "text": [
      "<ipython-input-33-e47f07a58858>:2: SettingWithCopyWarning: \n",
      "A value is trying to be set on a copy of a slice from a DataFrame\n",
      "\n",
      "See the caveats in the documentation: https://pandas.pydata.org/pandas-docs/stable/user_guide/indexing.html#returning-a-view-versus-a-copy\n",
      "  if df_test['support_id'][i] == 'None': df_test['support_id'][i] = 623367437\n"
     ]
    }
   ],
   "source": [
    "for i in range (0,len(df_test['timestamp'])):\n",
    "        if df_test['support_id'][i] == 'None': df_test['support_id'][i] = 623367437\n",
    "    "
   ]
  },
  {
   "cell_type": "code",
   "execution_count": 34,
   "id": "2ce344b5",
   "metadata": {},
   "outputs": [
    {
     "name": "stdout",
     "output_type": "stream",
     "text": [
      "0\n"
     ]
    }
   ],
   "source": [
    "k=0\n",
    "for i in range (0,len(df_test['timestamp'])):\n",
    "    if df_test['support_id'][i] == 'None': k+=1 \n",
    "print(k)\n",
    "        "
   ]
  },
  {
   "cell_type": "code",
   "execution_count": 35,
   "id": "b1bcb7fc",
   "metadata": {},
   "outputs": [],
   "source": [
    "#Normalizing the data manually:"
   ]
  },
  {
   "cell_type": "code",
   "execution_count": 36,
   "id": "37e3dde2",
   "metadata": {},
   "outputs": [],
   "source": [
    "df_test['timestamp']=(df_test['timestamp']-min(df_test.timestamp))/(max(df_test.timestamp)-min(df_test.timestamp))"
   ]
  },
  {
   "cell_type": "code",
   "execution_count": 37,
   "id": "d1e0d35b",
   "metadata": {},
   "outputs": [],
   "source": [
    "df_test['bidfloor']=(df_test['bidfloor']-min(df_test.bidfloor))/(max(df_test.bidfloor)-min(df_test.bidfloor))"
   ]
  },
  {
   "cell_type": "code",
   "execution_count": 38,
   "id": "286f416e",
   "metadata": {},
   "outputs": [],
   "source": [
    "df_test['support_id'] = df_test['support_id'].astype(int)"
   ]
  },
  {
   "cell_type": "code",
   "execution_count": 39,
   "id": "487a53f7",
   "metadata": {},
   "outputs": [],
   "source": [
    "df_test['support_id']=(df_test['support_id']-min(df_test.support_id))/(max(df_test.support_id)-min(df_test.support_id))"
   ]
  },
  {
   "cell_type": "code",
   "execution_count": 40,
   "id": "24f14b17",
   "metadata": {},
   "outputs": [
    {
     "data": {
      "text/plain": [
       "0         0.457681\n",
       "1         0.883787\n",
       "2         0.481457\n",
       "3         0.891913\n",
       "4         0.315369\n",
       "            ...   \n",
       "508153    0.358178\n",
       "508154    0.193651\n",
       "508155    0.892827\n",
       "508156    0.866780\n",
       "508157    0.892827\n",
       "Name: support_id, Length: 508158, dtype: float64"
      ]
     },
     "execution_count": 40,
     "metadata": {},
     "output_type": "execute_result"
    }
   ],
   "source": [
    "df_test.support_id"
   ]
  },
  {
   "cell_type": "code",
   "execution_count": 41,
   "id": "871aba4e",
   "metadata": {},
   "outputs": [],
   "source": [
    "df_test['device_language']=(df_test['device_language']-min(df_test.device_language))/(max(df_test.device_language)-min(df_test.device_language))"
   ]
  },
  {
   "cell_type": "code",
   "execution_count": 42,
   "id": "cc20e2d8",
   "metadata": {},
   "outputs": [],
   "source": [
    "df_test['verticals_0']=(df_test['verticals_0']-min(df_test.verticals_0))/(max(df_test.verticals_0)-min(df_test.verticals_0))"
   ]
  },
  {
   "cell_type": "code",
   "execution_count": 43,
   "id": "91c118c9",
   "metadata": {},
   "outputs": [],
   "source": [
    "df_test['verticals_1']=(df_test['verticals_1']-min(df_test.verticals_1))/(max(df_test.verticals_1)-min(df_test.verticals_1))"
   ]
  },
  {
   "cell_type": "code",
   "execution_count": 44,
   "id": "d25cec7d",
   "metadata": {},
   "outputs": [],
   "source": [
    "df_test['verticals_2']=(df_test['verticals_2']-min(df_test.verticals_2))/(max(df_test.verticals_2)-min(df_test.verticals_2))"
   ]
  },
  {
   "cell_type": "code",
   "execution_count": 45,
   "id": "2fbcf537",
   "metadata": {},
   "outputs": [],
   "source": [
    "df_test['vertical_3']=(df_test['vertical_3']-min(df_test.vertical_3))/(max(df_test.vertical_3)-min(df_test.vertical_3))"
   ]
  },
  {
   "cell_type": "code",
   "execution_count": 46,
   "id": "2ab898fd",
   "metadata": {},
   "outputs": [],
   "source": [
    "df_test['ad_id']=(df_test['ad_id']-min(df_test.ad_id))/(max(df_test.ad_id)-min(df_test.ad_id))\n",
    "df_test['bid_price']=(df_test['bid_price']-min(df_test.bid_price))/(max(df_test.bid_price)-min(df_test.bid_price))\n",
    "df_test['won_price']=(df_test['won_price']-min(df_test.won_price))/(max(df_test.won_price)-min(df_test.won_price))"
   ]
  },
  {
   "cell_type": "code",
   "execution_count": 47,
   "id": "6c95c052",
   "metadata": {},
   "outputs": [
    {
     "data": {
      "text/html": [
       "<div>\n",
       "<style scoped>\n",
       "    .dataframe tbody tr th:only-of-type {\n",
       "        vertical-align: middle;\n",
       "    }\n",
       "\n",
       "    .dataframe tbody tr th {\n",
       "        vertical-align: top;\n",
       "    }\n",
       "\n",
       "    .dataframe thead th {\n",
       "        text-align: right;\n",
       "    }\n",
       "</style>\n",
       "<table border=\"1\" class=\"dataframe\">\n",
       "  <thead>\n",
       "    <tr style=\"text-align: right;\">\n",
       "      <th></th>\n",
       "      <th>timestamp</th>\n",
       "      <th>bidfloor</th>\n",
       "      <th>support_type</th>\n",
       "      <th>support_id</th>\n",
       "      <th>device_language</th>\n",
       "      <th>device_model</th>\n",
       "      <th>verticals_0</th>\n",
       "      <th>verticals_1</th>\n",
       "      <th>verticals_2</th>\n",
       "      <th>vertical_3</th>\n",
       "      <th>ad_id</th>\n",
       "      <th>bid_price</th>\n",
       "      <th>won_price</th>\n",
       "    </tr>\n",
       "  </thead>\n",
       "  <tbody>\n",
       "    <tr>\n",
       "      <th>0</th>\n",
       "      <td>0.000000</td>\n",
       "      <td>0.000000</td>\n",
       "      <td>0</td>\n",
       "      <td>0.457681</td>\n",
       "      <td>0.000000</td>\n",
       "      <td>0</td>\n",
       "      <td>0.118567</td>\n",
       "      <td>0.281154</td>\n",
       "      <td>0.000000</td>\n",
       "      <td>0.000000</td>\n",
       "      <td>0.000000</td>\n",
       "      <td>0.50</td>\n",
       "      <td>0.484346</td>\n",
       "    </tr>\n",
       "    <tr>\n",
       "      <th>1</th>\n",
       "      <td>0.000007</td>\n",
       "      <td>0.000000</td>\n",
       "      <td>0</td>\n",
       "      <td>0.883787</td>\n",
       "      <td>0.019231</td>\n",
       "      <td>0</td>\n",
       "      <td>0.162656</td>\n",
       "      <td>0.281154</td>\n",
       "      <td>0.277908</td>\n",
       "      <td>0.664804</td>\n",
       "      <td>0.333333</td>\n",
       "      <td>0.50</td>\n",
       "      <td>0.521179</td>\n",
       "    </tr>\n",
       "    <tr>\n",
       "      <th>2</th>\n",
       "      <td>0.000007</td>\n",
       "      <td>0.712727</td>\n",
       "      <td>0</td>\n",
       "      <td>0.481457</td>\n",
       "      <td>0.019231</td>\n",
       "      <td>0</td>\n",
       "      <td>0.262428</td>\n",
       "      <td>0.281154</td>\n",
       "      <td>0.018998</td>\n",
       "      <td>0.581626</td>\n",
       "      <td>0.000000</td>\n",
       "      <td>0.50</td>\n",
       "      <td>0.518548</td>\n",
       "    </tr>\n",
       "    <tr>\n",
       "      <th>3</th>\n",
       "      <td>0.000007</td>\n",
       "      <td>0.716364</td>\n",
       "      <td>0</td>\n",
       "      <td>0.891913</td>\n",
       "      <td>0.019231</td>\n",
       "      <td>0</td>\n",
       "      <td>0.164588</td>\n",
       "      <td>0.178077</td>\n",
       "      <td>0.264520</td>\n",
       "      <td>0.953445</td>\n",
       "      <td>0.000000</td>\n",
       "      <td>0.50</td>\n",
       "      <td>0.547488</td>\n",
       "    </tr>\n",
       "    <tr>\n",
       "      <th>4</th>\n",
       "      <td>0.000007</td>\n",
       "      <td>0.000000</td>\n",
       "      <td>0</td>\n",
       "      <td>0.315369</td>\n",
       "      <td>0.000000</td>\n",
       "      <td>0</td>\n",
       "      <td>0.067803</td>\n",
       "      <td>0.073846</td>\n",
       "      <td>0.002352</td>\n",
       "      <td>0.855990</td>\n",
       "      <td>0.000000</td>\n",
       "      <td>0.50</td>\n",
       "      <td>0.281768</td>\n",
       "    </tr>\n",
       "    <tr>\n",
       "      <th>...</th>\n",
       "      <td>...</td>\n",
       "      <td>...</td>\n",
       "      <td>...</td>\n",
       "      <td>...</td>\n",
       "      <td>...</td>\n",
       "      <td>...</td>\n",
       "      <td>...</td>\n",
       "      <td>...</td>\n",
       "      <td>...</td>\n",
       "      <td>...</td>\n",
       "      <td>...</td>\n",
       "      <td>...</td>\n",
       "      <td>...</td>\n",
       "    </tr>\n",
       "    <tr>\n",
       "      <th>508153</th>\n",
       "      <td>1.000000</td>\n",
       "      <td>0.000000</td>\n",
       "      <td>0</td>\n",
       "      <td>0.358178</td>\n",
       "      <td>0.019231</td>\n",
       "      <td>0</td>\n",
       "      <td>0.006851</td>\n",
       "      <td>0.281154</td>\n",
       "      <td>0.193776</td>\n",
       "      <td>0.004966</td>\n",
       "      <td>0.000000</td>\n",
       "      <td>0.25</td>\n",
       "      <td>0.260721</td>\n",
       "    </tr>\n",
       "    <tr>\n",
       "      <th>508154</th>\n",
       "      <td>1.000000</td>\n",
       "      <td>0.000000</td>\n",
       "      <td>0</td>\n",
       "      <td>0.193651</td>\n",
       "      <td>0.019231</td>\n",
       "      <td>0</td>\n",
       "      <td>0.162656</td>\n",
       "      <td>0.281154</td>\n",
       "      <td>0.000000</td>\n",
       "      <td>0.000000</td>\n",
       "      <td>0.000000</td>\n",
       "      <td>0.25</td>\n",
       "      <td>0.484346</td>\n",
       "    </tr>\n",
       "    <tr>\n",
       "      <th>508155</th>\n",
       "      <td>1.000000</td>\n",
       "      <td>0.669091</td>\n",
       "      <td>0</td>\n",
       "      <td>0.892827</td>\n",
       "      <td>0.019231</td>\n",
       "      <td>0</td>\n",
       "      <td>0.164588</td>\n",
       "      <td>0.281154</td>\n",
       "      <td>0.277908</td>\n",
       "      <td>0.906890</td>\n",
       "      <td>0.000000</td>\n",
       "      <td>1.00</td>\n",
       "      <td>0.486977</td>\n",
       "    </tr>\n",
       "    <tr>\n",
       "      <th>508156</th>\n",
       "      <td>1.000000</td>\n",
       "      <td>0.000000</td>\n",
       "      <td>0</td>\n",
       "      <td>0.866780</td>\n",
       "      <td>0.019231</td>\n",
       "      <td>0</td>\n",
       "      <td>0.038644</td>\n",
       "      <td>0.281154</td>\n",
       "      <td>0.006333</td>\n",
       "      <td>0.048417</td>\n",
       "      <td>0.000000</td>\n",
       "      <td>0.25</td>\n",
       "      <td>0.255459</td>\n",
       "    </tr>\n",
       "    <tr>\n",
       "      <th>508157</th>\n",
       "      <td>1.000000</td>\n",
       "      <td>0.669091</td>\n",
       "      <td>0</td>\n",
       "      <td>0.892827</td>\n",
       "      <td>0.019231</td>\n",
       "      <td>0</td>\n",
       "      <td>0.164588</td>\n",
       "      <td>0.281154</td>\n",
       "      <td>0.277908</td>\n",
       "      <td>0.906890</td>\n",
       "      <td>0.000000</td>\n",
       "      <td>1.00</td>\n",
       "      <td>0.605367</td>\n",
       "    </tr>\n",
       "  </tbody>\n",
       "</table>\n",
       "<p>508158 rows × 13 columns</p>\n",
       "</div>"
      ],
      "text/plain": [
       "        timestamp  bidfloor  support_type  support_id  device_language  \\\n",
       "0        0.000000  0.000000             0    0.457681         0.000000   \n",
       "1        0.000007  0.000000             0    0.883787         0.019231   \n",
       "2        0.000007  0.712727             0    0.481457         0.019231   \n",
       "3        0.000007  0.716364             0    0.891913         0.019231   \n",
       "4        0.000007  0.000000             0    0.315369         0.000000   \n",
       "...           ...       ...           ...         ...              ...   \n",
       "508153   1.000000  0.000000             0    0.358178         0.019231   \n",
       "508154   1.000000  0.000000             0    0.193651         0.019231   \n",
       "508155   1.000000  0.669091             0    0.892827         0.019231   \n",
       "508156   1.000000  0.000000             0    0.866780         0.019231   \n",
       "508157   1.000000  0.669091             0    0.892827         0.019231   \n",
       "\n",
       "        device_model  verticals_0  verticals_1  verticals_2  vertical_3  \\\n",
       "0                  0     0.118567     0.281154     0.000000    0.000000   \n",
       "1                  0     0.162656     0.281154     0.277908    0.664804   \n",
       "2                  0     0.262428     0.281154     0.018998    0.581626   \n",
       "3                  0     0.164588     0.178077     0.264520    0.953445   \n",
       "4                  0     0.067803     0.073846     0.002352    0.855990   \n",
       "...              ...          ...          ...          ...         ...   \n",
       "508153             0     0.006851     0.281154     0.193776    0.004966   \n",
       "508154             0     0.162656     0.281154     0.000000    0.000000   \n",
       "508155             0     0.164588     0.281154     0.277908    0.906890   \n",
       "508156             0     0.038644     0.281154     0.006333    0.048417   \n",
       "508157             0     0.164588     0.281154     0.277908    0.906890   \n",
       "\n",
       "           ad_id  bid_price  won_price  \n",
       "0       0.000000       0.50   0.484346  \n",
       "1       0.333333       0.50   0.521179  \n",
       "2       0.000000       0.50   0.518548  \n",
       "3       0.000000       0.50   0.547488  \n",
       "4       0.000000       0.50   0.281768  \n",
       "...          ...        ...        ...  \n",
       "508153  0.000000       0.25   0.260721  \n",
       "508154  0.000000       0.25   0.484346  \n",
       "508155  0.000000       1.00   0.486977  \n",
       "508156  0.000000       0.25   0.255459  \n",
       "508157  0.000000       1.00   0.605367  \n",
       "\n",
       "[508158 rows x 13 columns]"
      ]
     },
     "execution_count": 47,
     "metadata": {},
     "output_type": "execute_result"
    }
   ],
   "source": [
    "df_test"
   ]
  },
  {
   "cell_type": "code",
   "execution_count": 48,
   "id": "30bfda1b",
   "metadata": {},
   "outputs": [
    {
     "data": {
      "text/plain": [
       "Index(['timestamp', 'bidfloor', 'support_type', 'support_id',\n",
       "       'device_language', 'device_model', 'verticals_0', 'verticals_1',\n",
       "       'verticals_2', 'vertical_3', 'ad_id', 'bid_price', 'won_price'],\n",
       "      dtype='object')"
      ]
     },
     "execution_count": 48,
     "metadata": {},
     "output_type": "execute_result"
    }
   ],
   "source": [
    "df_test.columns"
   ]
  },
  {
   "cell_type": "code",
   "execution_count": 49,
   "id": "24eec327",
   "metadata": {},
   "outputs": [],
   "source": [
    "#use the saved model"
   ]
  },
  {
   "cell_type": "code",
   "execution_count": 50,
   "id": "f409b24a",
   "metadata": {},
   "outputs": [],
   "source": [
    "import pickle"
   ]
  },
  {
   "cell_type": "code",
   "execution_count": 51,
   "id": "1410b6cb",
   "metadata": {},
   "outputs": [],
   "source": [
    "# load the model from disk.\n",
    "loaded_model = pickle.load(open('model.pkl', 'rb'))\n"
   ]
  },
  {
   "cell_type": "code",
   "execution_count": 52,
   "id": "04847aaa",
   "metadata": {},
   "outputs": [],
   "source": [
    "X_test= df_test[['timestamp', 'bidfloor',\n",
    "       'support_type', 'support_id', 'device_language', 'device_model',\n",
    "       'verticals_0', 'verticals_1', 'verticals_2', 'vertical_3', 'ad_id',\n",
    "       'bid_price', 'won_price']]\n"
   ]
  },
  {
   "cell_type": "code",
   "execution_count": 53,
   "id": "95de15d4",
   "metadata": {},
   "outputs": [],
   "source": [
    "Y_test = loaded_model.predict(X_test)"
   ]
  },
  {
   "cell_type": "code",
   "execution_count": 54,
   "id": "0c85d3d9",
   "metadata": {},
   "outputs": [
    {
     "data": {
      "text/plain": [
       "array([0, 0, 0, ..., 0, 0, 0], dtype=int64)"
      ]
     },
     "execution_count": 54,
     "metadata": {},
     "output_type": "execute_result"
    }
   ],
   "source": [
    "Y_test"
   ]
  }
 ],
 "metadata": {
  "kernelspec": {
   "display_name": "Python 3",
   "language": "python",
   "name": "python3"
  },
  "language_info": {
   "codemirror_mode": {
    "name": "ipython",
    "version": 3
   },
   "file_extension": ".py",
   "mimetype": "text/x-python",
   "name": "python",
   "nbconvert_exporter": "python",
   "pygments_lexer": "ipython3",
   "version": "3.8.8"
  }
 },
 "nbformat": 4,
 "nbformat_minor": 5
}
